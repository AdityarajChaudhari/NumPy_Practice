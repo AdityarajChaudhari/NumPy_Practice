{
 "cells": [
  {
   "cell_type": "markdown",
   "id": "65e01bd6-733a-4553-8a5c-95d238375142",
   "metadata": {},
   "source": [
    "# Dimensions in NumPy Arrays"
   ]
  },
  {
   "cell_type": "markdown",
   "id": "8a27b17c-2841-442c-80e6-ac1e09d21e11",
   "metadata": {},
   "source": [
    "## 1 - O-D Arrays"
   ]
  },
  {
   "cell_type": "code",
   "execution_count": 1,
   "id": "c165ef10-9c29-4ec2-a85f-3c35d35c493e",
   "metadata": {},
   "outputs": [],
   "source": [
    "import numpy as np\n"
   ]
  },
  {
   "cell_type": "raw",
   "id": "0bb2cd5b-5304-45d1-b0fd-d2f7b7ec9392",
   "metadata": {},
   "source": [
    "0-D arrays, or Scalars, are the elements in an array. Each value in an array is a 0-D array."
   ]
  },
  {
   "cell_type": "code",
   "execution_count": 2,
   "id": "37d7a3d6-10d6-40c8-8888-c82016183c37",
   "metadata": {},
   "outputs": [
    {
     "name": "stdout",
     "output_type": "stream",
     "text": [
      "75\n",
      "()\n",
      "0\n"
     ]
    }
   ],
   "source": [
    "arr = np.array(75)\n",
    "print(arr)\n",
    "print(arr.shape)\n",
    "print(arr.ndim)"
   ]
  },
  {
   "cell_type": "code",
   "execution_count": null,
   "id": "4c09b244-8901-4607-8783-32b4344cbf43",
   "metadata": {},
   "outputs": [],
   "source": []
  },
  {
   "cell_type": "markdown",
   "id": "a2c30867-b856-4ce9-a0e0-095bbb3359e5",
   "metadata": {},
   "source": [
    "## 2 - 1-D Arrays"
   ]
  },
  {
   "cell_type": "raw",
   "id": "7a3ba864-b904-491b-9922-6e4bccc78516",
   "metadata": {},
   "source": [
    "An array that has 0-D arrays as its elements is called uni-dimensional or 1-D array."
   ]
  },
  {
   "cell_type": "code",
   "execution_count": 3,
   "id": "f305c001-b946-422d-8037-af86bb1d2572",
   "metadata": {},
   "outputs": [
    {
     "name": "stdout",
     "output_type": "stream",
     "text": [
      "[1 2 3 4 5]\n",
      "(5,)\n",
      "1\n"
     ]
    }
   ],
   "source": [
    "arr = np.array([1,2,3,4,5])\n",
    "print(arr)\n",
    "print(arr.shape)\n",
    "print(arr.ndim)"
   ]
  },
  {
   "cell_type": "code",
   "execution_count": null,
   "id": "25462665-0414-4754-8ced-7b0e236b366c",
   "metadata": {},
   "outputs": [],
   "source": []
  },
  {
   "cell_type": "markdown",
   "id": "e19cb767-ed28-4bdd-a959-9b1e027622cc",
   "metadata": {},
   "source": [
    "## 3 - 2-D Arrays"
   ]
  },
  {
   "cell_type": "raw",
   "id": "ce9d35bc-2a09-4ecb-96fe-61002913c372",
   "metadata": {},
   "source": [
    "An array that has 1-D arrays as its elements is called a 2-D array.\n",
    "\n",
    "These are often used to represent matrix or 2nd order tensors."
   ]
  },
  {
   "cell_type": "code",
   "execution_count": 4,
   "id": "1405fabe-3309-495a-aa0f-5ae8cf98d33b",
   "metadata": {},
   "outputs": [
    {
     "data": {
      "text/plain": [
       "array([list([1, 2, 3, 4, 5]), list([6, 7, 8, 9])], dtype=object)"
      ]
     },
     "execution_count": 4,
     "metadata": {},
     "output_type": "execute_result"
    }
   ],
   "source": [
    "# 2-D Array of Varying length. need to use dtype=object parameter\n",
    "\n",
    "arr = np.array([[1,2,3,4,5],[6,7,8,9]], dtype=object)\n",
    "arr"
   ]
  },
  {
   "cell_type": "code",
   "execution_count": 5,
   "id": "62b0aff0-b545-4373-95cf-2c9f94fc4873",
   "metadata": {},
   "outputs": [
    {
     "name": "stdout",
     "output_type": "stream",
     "text": [
      "[[1 2 3 4 5]\n",
      " [6 7 8 9 10]]\n",
      "(2, 5)\n",
      "2\n"
     ]
    }
   ],
   "source": [
    "arr = np.array([[1,2,3,4,5],[6,7,8,9,10]], dtype=object)\n",
    "print(arr)\n",
    "print(arr.shape)\n",
    "print(arr.ndim)"
   ]
  },
  {
   "cell_type": "code",
   "execution_count": null,
   "id": "42858978-7d87-401d-8d77-58030a596287",
   "metadata": {},
   "outputs": [],
   "source": []
  },
  {
   "cell_type": "markdown",
   "id": "4eccb49f-2e5e-4454-b979-eaf96304b0f0",
   "metadata": {},
   "source": [
    "## 4 - 3-D Arrays"
   ]
  },
  {
   "cell_type": "raw",
   "id": "493fa96f-a808-4930-a4c0-b6d6de7b5f5a",
   "metadata": {},
   "source": [
    "An array that has 2-D arrays (matrices) as its elements is called 3-D array.\n",
    "\n",
    "These are often used to represent a 3rd order tensor."
   ]
  },
  {
   "cell_type": "code",
   "execution_count": 6,
   "id": "37ac4a90-2110-4c66-8543-0e45bfa167c9",
   "metadata": {},
   "outputs": [
    {
     "name": "stdout",
     "output_type": "stream",
     "text": [
      "[[[1 2]\n",
      "  [3 4]]\n",
      "\n",
      " [[5 6]\n",
      "  [7 8]]]\n",
      "(2, 2, 2)\n",
      "3\n"
     ]
    }
   ],
   "source": [
    "arr = np.array([[[1,2],[3,4]], [[5,6],[7,8]]])\n",
    "print(arr)\n",
    "print(arr.shape)\n",
    "print(arr.ndim)"
   ]
  },
  {
   "cell_type": "code",
   "execution_count": null,
   "id": "da53d697-337e-4f54-ab7b-aa4f3fcb06f2",
   "metadata": {},
   "outputs": [],
   "source": []
  },
  {
   "cell_type": "markdown",
   "id": "d6c7687e-40aa-4dc9-93b7-e804870a3e56",
   "metadata": {},
   "source": [
    "## 5 - Create a 7 Dimension Array"
   ]
  },
  {
   "cell_type": "code",
   "execution_count": 7,
   "id": "9aa8a3e5-2419-4a13-ae32-39c65f23d6cc",
   "metadata": {},
   "outputs": [
    {
     "name": "stdout",
     "output_type": "stream",
     "text": [
      "[[[[[[[1 2 3 4 5]]]]]]]\n",
      "(1, 1, 1, 1, 1, 1, 5)\n",
      "7\n"
     ]
    }
   ],
   "source": [
    "arr = np.array([1,2,3,4,5], ndmin=7)\n",
    "print(arr)\n",
    "print(arr.shape)\n",
    "print(arr.ndim)"
   ]
  },
  {
   "cell_type": "code",
   "execution_count": null,
   "id": "db622eb5-951f-4905-b06b-e4c87d88d707",
   "metadata": {},
   "outputs": [],
   "source": []
  },
  {
   "cell_type": "markdown",
   "id": "71b8b653-4f46-4479-b2c5-f72f21d2879c",
   "metadata": {},
   "source": [
    "# Indexing in NumPy "
   ]
  },
  {
   "cell_type": "raw",
   "id": "e86676b3-49d5-4b68-9cb8-ea22519cea08",
   "metadata": {},
   "source": [
    "Array indexing is the same as accessing an array element.\n",
    "\n",
    "You can access an array element by referring to its index number.\n",
    "\n",
    "The indexes in NumPy arrays start with 0, meaning that the first element has index 0, and the second has index 1 etc."
   ]
  },
  {
   "cell_type": "markdown",
   "id": "be728289-0021-484e-9460-f2d72eb30753",
   "metadata": {},
   "source": [
    "## 6 - Get the first element from the NumPy Array"
   ]
  },
  {
   "cell_type": "code",
   "execution_count": 8,
   "id": "48630648-0745-4951-9554-4b277258c4d7",
   "metadata": {},
   "outputs": [
    {
     "name": "stdout",
     "output_type": "stream",
     "text": [
      "1\n"
     ]
    }
   ],
   "source": [
    "arr = np.array([1,2,3,4,5])\n",
    "print(arr[0])"
   ]
  },
  {
   "cell_type": "code",
   "execution_count": null,
   "id": "57c377dd-3aac-4c5f-81e2-c38494206b66",
   "metadata": {},
   "outputs": [],
   "source": []
  },
  {
   "cell_type": "markdown",
   "id": "25349664-ab42-453d-a8ad-617adcf21202",
   "metadata": {},
   "source": [
    "## 7 - Get the Second element from NumPy Array\n"
   ]
  },
  {
   "cell_type": "code",
   "execution_count": 9,
   "id": "1a2e0874-c395-4cce-bdcd-bc2d137798ca",
   "metadata": {},
   "outputs": [
    {
     "name": "stdout",
     "output_type": "stream",
     "text": [
      "2\n"
     ]
    }
   ],
   "source": [
    "arr = np.array([1,2,3,4,5])\n",
    "print(arr[1])"
   ]
  },
  {
   "cell_type": "code",
   "execution_count": null,
   "id": "845800e9-3750-4cda-993d-b0d1bc1778f7",
   "metadata": {},
   "outputs": [],
   "source": []
  },
  {
   "cell_type": "markdown",
   "id": "cb8da00f-2764-47f7-aff4-8c890eb90791",
   "metadata": {},
   "source": [
    "## 8 - Get third and fourth elements from the following array and add them."
   ]
  },
  {
   "cell_type": "code",
   "execution_count": 10,
   "id": "8bc180a9-1e14-430e-bc80-84846ef24971",
   "metadata": {},
   "outputs": [
    {
     "name": "stdout",
     "output_type": "stream",
     "text": [
      "7\n"
     ]
    }
   ],
   "source": [
    "arr = np.array([1,2,3,4,5])\n",
    "print(arr[2]+arr[3])"
   ]
  },
  {
   "cell_type": "code",
   "execution_count": null,
   "id": "f6504d12-6c6f-46fb-a2b9-0976788fff25",
   "metadata": {},
   "outputs": [],
   "source": []
  },
  {
   "cell_type": "raw",
   "id": "1fcbb615-dd9d-4d9b-b217-0cf69ebec1fa",
   "metadata": {},
   "source": [
    "Access 2-D Arrays\n",
    "\n",
    "To access elements from 2-D arrays we can use comma separated integers representing the dimension and the index of the element.\n",
    "\n",
    "Think of 2-D arrays like a table with rows and columns, where the dimension represents the row and the index represents the column."
   ]
  },
  {
   "cell_type": "markdown",
   "id": "ad4ccf05-3022-4305-8250-31b35bbede54",
   "metadata": {},
   "source": [
    "## 9 - Access the element on the first row, second column"
   ]
  },
  {
   "cell_type": "code",
   "execution_count": 12,
   "id": "718a7077-fbba-4467-bbc3-829e8bc90ff4",
   "metadata": {},
   "outputs": [
    {
     "name": "stdout",
     "output_type": "stream",
     "text": [
      "2\n"
     ]
    }
   ],
   "source": [
    "arr = np.array([[1,2,3,4,5], [6,7,8,9,10]])\n",
    "print(arr[0,1])"
   ]
  },
  {
   "cell_type": "code",
   "execution_count": null,
   "id": "50fdeaa8-e45e-4a16-8fea-2b06ffd0c0d5",
   "metadata": {},
   "outputs": [],
   "source": []
  },
  {
   "cell_type": "markdown",
   "id": "7b79aa41-669e-4957-852a-3cfdfb637baa",
   "metadata": {},
   "source": [
    "## 10 - Access the element on the 2nd row, 5th column:"
   ]
  },
  {
   "cell_type": "code",
   "execution_count": 15,
   "id": "49b68224-4379-41e8-8600-ddab33651f19",
   "metadata": {},
   "outputs": [
    {
     "name": "stdout",
     "output_type": "stream",
     "text": [
      "10\n"
     ]
    }
   ],
   "source": [
    "arr = np.array([[1,2,3,4,5], [6,7,8,9,10]])\n",
    "print(arr[1,4])"
   ]
  },
  {
   "cell_type": "code",
   "execution_count": null,
   "id": "83db3001-7693-458f-8c9d-5d9064164021",
   "metadata": {},
   "outputs": [],
   "source": []
  },
  {
   "cell_type": "raw",
   "id": "fac4dcd0-63b2-4055-9a99-5d051bea25fa",
   "metadata": {},
   "source": [
    "Access 3-D Arrays\n",
    "\n",
    "To access elements from 3-D arrays we can use comma separated integers representing the dimensions and the index of the element."
   ]
  },
  {
   "cell_type": "markdown",
   "id": "93bb8226-4a2c-4350-9a33-e980e4b423a0",
   "metadata": {},
   "source": [
    "## 11 - Access the third element of the second array of the first array"
   ]
  },
  {
   "cell_type": "code",
   "execution_count": 19,
   "id": "6c49f005-43df-459d-83fb-d33d9a64daf3",
   "metadata": {},
   "outputs": [
    {
     "name": "stdout",
     "output_type": "stream",
     "text": [
      "76\n"
     ]
    }
   ],
   "source": [
    "arr = np.array([[[1,2,75],[3,4,76]], [[5,6,77],[7,8,78]]])\n",
    "print(arr[0,1,2])"
   ]
  },
  {
   "cell_type": "code",
   "execution_count": null,
   "id": "ff701f2b-c52b-4593-843c-eaf428b2fbd2",
   "metadata": {},
   "outputs": [],
   "source": []
  },
  {
   "cell_type": "raw",
   "id": "4cd123a2-fa46-4adf-be9f-616a130e8461",
   "metadata": {},
   "source": [
    "Negative Indexing\n",
    "Use negative indexing to access an array from the end."
   ]
  },
  {
   "cell_type": "markdown",
   "id": "98fb45da-d142-49b3-8185-16fbe8128019",
   "metadata": {},
   "source": [
    "## 12 - Print the last element from the 2nd dim"
   ]
  },
  {
   "cell_type": "code",
   "execution_count": 20,
   "id": "36921c62-57bc-4591-b8e0-2d77de1c712d",
   "metadata": {},
   "outputs": [
    {
     "name": "stdout",
     "output_type": "stream",
     "text": [
      "10\n"
     ]
    }
   ],
   "source": [
    "arr = np.array([[1,2,3,4,5], [6,7,8,9,10]])\n",
    "print(arr[1,-1])"
   ]
  },
  {
   "cell_type": "code",
   "execution_count": null,
   "id": "d18a74ad-81c6-4def-ba61-7ae75ca52814",
   "metadata": {},
   "outputs": [],
   "source": []
  }
 ],
 "metadata": {
  "kernelspec": {
   "display_name": "Python 3 (ipykernel)",
   "language": "python",
   "name": "python3"
  },
  "language_info": {
   "codemirror_mode": {
    "name": "ipython",
    "version": 3
   },
   "file_extension": ".py",
   "mimetype": "text/x-python",
   "name": "python",
   "nbconvert_exporter": "python",
   "pygments_lexer": "ipython3",
   "version": "3.9.19"
  }
 },
 "nbformat": 4,
 "nbformat_minor": 5
}
