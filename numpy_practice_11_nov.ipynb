{
 "cells": [
  {
   "cell_type": "code",
   "execution_count": 1,
   "id": "6115b806-593c-4cc3-9e1e-f4582da97e40",
   "metadata": {},
   "outputs": [],
   "source": [
    "import numpy as np"
   ]
  },
  {
   "cell_type": "markdown",
   "id": "b547836c-9743-4cce-b998-27900b2bf0ba",
   "metadata": {},
   "source": [
    "## Numpy Array Slicing"
   ]
  },
  {
   "cell_type": "raw",
   "id": "e3ced063-d45b-4b98-88a7-14d79521b4d3",
   "metadata": {},
   "source": [
    "Slicing arrays\n",
    "Slicing in python means taking elements from one given index to another given index.\n",
    "\n",
    "We pass slice instead of index like this: [start:end].\n",
    "\n",
    "We can also define the step, like this: [start:end:step].\n",
    "\n",
    "If we don't pass start its considered 0\n",
    "\n",
    "If we don't pass end its considered length of array in that dimension\n",
    "\n",
    "If we don't pass step its considered 1"
   ]
  },
  {
   "cell_type": "code",
   "execution_count": 3,
   "id": "3c42012b-2615-4c2d-8d66-6556a98d13d0",
   "metadata": {},
   "outputs": [
    {
     "data": {
      "text/plain": [
       "array([2, 3, 4, 5])"
      ]
     },
     "execution_count": 3,
     "metadata": {},
     "output_type": "execute_result"
    }
   ],
   "source": [
    "# 1- Slice elements from index 1 to index 5 from the following array:\n",
    "\n",
    "arr = np.array([1,2,3,4,5,6,7])\n",
    "arr[1:5]"
   ]
  },
  {
   "cell_type": "code",
   "execution_count": 4,
   "id": "495c2de3-653b-43ff-abb9-e236da8c8593",
   "metadata": {},
   "outputs": [
    {
     "data": {
      "text/plain": [
       "array([5, 6, 7, 8])"
      ]
     },
     "execution_count": 4,
     "metadata": {},
     "output_type": "execute_result"
    }
   ],
   "source": [
    "# 2 - Slice elements from index 4 to the end of the array:\n",
    "\n",
    "arr = np.array([1,2,3,4,5,6,7,8])\n",
    "arr[4:]"
   ]
  },
  {
   "cell_type": "code",
   "execution_count": 7,
   "id": "99110f4f-f3cf-42d4-8054-3638e330d441",
   "metadata": {},
   "outputs": [
    {
     "data": {
      "text/plain": [
       "array([1, 2, 3, 4])"
      ]
     },
     "execution_count": 7,
     "metadata": {},
     "output_type": "execute_result"
    }
   ],
   "source": [
    "# 3- Slice elements from the beginning to index 4 (not included):\n",
    "\n",
    "arr = np.array([1,2,3,4,5,6,7])\n",
    "arr[:4]"
   ]
  },
  {
   "cell_type": "code",
   "execution_count": 8,
   "id": "bc744e64-e53d-47cc-8981-96710848c44a",
   "metadata": {},
   "outputs": [
    {
     "data": {
      "text/plain": [
       "array([6, 7])"
      ]
     },
     "execution_count": 8,
     "metadata": {},
     "output_type": "execute_result"
    }
   ],
   "source": [
    "# 4 - Slice from the index 3 from the end to index 1 from the end:\n",
    "\n",
    "arr = np.array([1,2,3,4,5,6,7,8])\n",
    "arr[-3:-1]"
   ]
  },
  {
   "cell_type": "code",
   "execution_count": 12,
   "id": "393d9b40-f34c-438b-af93-71fb0d548354",
   "metadata": {},
   "outputs": [
    {
     "data": {
      "text/plain": [
       "array([2, 4])"
      ]
     },
     "execution_count": 12,
     "metadata": {},
     "output_type": "execute_result"
    }
   ],
   "source": [
    "# 5- Return every other element from index 1 to index 5\n",
    "\n",
    "arr = np.array([1,2,3,4,5,6,7])\n",
    "arr[1:5:2]"
   ]
  },
  {
   "cell_type": "code",
   "execution_count": 13,
   "id": "e16d8edd-af58-4bbc-b379-0ce33391e42c",
   "metadata": {},
   "outputs": [
    {
     "data": {
      "text/plain": [
       "array([1, 3, 5, 7])"
      ]
     },
     "execution_count": 13,
     "metadata": {},
     "output_type": "execute_result"
    }
   ],
   "source": [
    "# 6- Return every other element from the entire array:\n",
    "\n",
    "arr = np.array([1,2,3,4,5,6,7])\n",
    "arr[::2]"
   ]
  },
  {
   "cell_type": "markdown",
   "id": "4e4de580-b655-45a0-8040-71776933917b",
   "metadata": {},
   "source": [
    "## Slicing 2-D Array"
   ]
  },
  {
   "cell_type": "code",
   "execution_count": 15,
   "id": "2a9d20dd-2a68-4ee8-bf7a-a445213245c8",
   "metadata": {},
   "outputs": [
    {
     "data": {
      "text/plain": [
       "array([6, 7, 8])"
      ]
     },
     "execution_count": 15,
     "metadata": {},
     "output_type": "execute_result"
    }
   ],
   "source": [
    "# 7- From the second element, slice elements from index 1 to index 4 (not included):\n",
    "\n",
    "arr = np.array([[1,2,3,4],[5,6,7,8]])\n",
    "arr[1, 1:4]"
   ]
  },
  {
   "cell_type": "code",
   "execution_count": 25,
   "id": "e5b53165-e93c-44b0-a48c-6371fcd6024e",
   "metadata": {},
   "outputs": [
    {
     "data": {
      "text/plain": [
       "array([3, 7])"
      ]
     },
     "execution_count": 25,
     "metadata": {},
     "output_type": "execute_result"
    }
   ],
   "source": [
    "# 8 - From both elements, return index 2\n",
    "\n",
    "arr = np.array([[1,2,3,4],[5,6,7,8]])\n",
    "arr[0:2,2]"
   ]
  },
  {
   "cell_type": "code",
   "execution_count": 26,
   "id": "fa00b366-ec07-431d-a50a-c1e14eb7f252",
   "metadata": {},
   "outputs": [
    {
     "data": {
      "text/plain": [
       "array([[2, 3, 4],\n",
       "       [6, 7, 8]])"
      ]
     },
     "execution_count": 26,
     "metadata": {},
     "output_type": "execute_result"
    }
   ],
   "source": [
    "# 9- From both elements, slice index 1 to index 4 (not included), this will return a 2-D array:\n",
    "\n",
    "arr = np.array([[1,2,3,4],[5,6,7,8]])\n",
    "arr[0:2, 1:4]"
   ]
  },
  {
   "cell_type": "code",
   "execution_count": null,
   "id": "12a3bf5b-84ec-4622-a317-a9f892c7c801",
   "metadata": {},
   "outputs": [],
   "source": []
  },
  {
   "cell_type": "code",
   "execution_count": null,
   "id": "076fce41-cb7d-4d08-9b58-835258014d84",
   "metadata": {},
   "outputs": [],
   "source": []
  },
  {
   "cell_type": "markdown",
   "id": "a9d2a981-b741-468e-9a5b-2aee69c59f13",
   "metadata": {},
   "source": [
    "# Data Types in Numpy"
   ]
  },
  {
   "cell_type": "raw",
   "id": "2327492e-01b8-48f6-a37b-1225b02b7534",
   "metadata": {},
   "source": [
    "Data Types in Python\n",
    "By default Python have these data types:\n",
    "\n",
    "strings - used to represent text data, the text is given under quote marks. e.g. \"ABCD\"\n",
    "integer - used to represent integer numbers. e.g. -1, -2, -3\n",
    "float - used to represent real numbers. e.g. 1.2, 42.42\n",
    "boolean - used to represent True or False.\n",
    "complex - used to represent complex numbers. e.g. 1.0 + 2.0j, 1.5 + 2.5j\n",
    "Data Types in NumPy\n",
    "NumPy has some extra data types, and refer to data types with one character, like i for integers, u for unsigned integers etc.\n",
    "\n",
    "Below is a list of all data types in NumPy and the characters used to represent them.\n",
    "\n",
    "i - integer\n",
    "b - boolean\n",
    "u - unsigned integer\n",
    "f - float\n",
    "c - complex float\n",
    "m - timedelta\n",
    "M - datetime\n",
    "O - object\n",
    "S - string\n",
    "U - unicode string\n",
    "V - fixed chunk of memory for other type ( void )\n"
   ]
  },
  {
   "cell_type": "code",
   "execution_count": 27,
   "id": "a44b3e88-151d-4039-a3f3-14deaab50d30",
   "metadata": {},
   "outputs": [
    {
     "data": {
      "text/plain": [
       "dtype('int32')"
      ]
     },
     "execution_count": 27,
     "metadata": {},
     "output_type": "execute_result"
    }
   ],
   "source": [
    "# 10- Get the data type of an array object:\n",
    "\n",
    "arr = np.array([1,2,3,4,5])\n",
    "arr.dtype"
   ]
  },
  {
   "cell_type": "code",
   "execution_count": 28,
   "id": "6a1439b4-21a5-4ee1-9bde-46ec77c5b28f",
   "metadata": {},
   "outputs": [
    {
     "data": {
      "text/plain": [
       "dtype('<U6')"
      ]
     },
     "execution_count": 28,
     "metadata": {},
     "output_type": "execute_result"
    }
   ],
   "source": [
    "# 11- Get the data type of an array containing strings:\n",
    "\n",
    "arr = np.array([\"apple\", \"banana\", \"orange\"])\n",
    "arr.dtype"
   ]
  },
  {
   "cell_type": "code",
   "execution_count": 36,
   "id": "6ef61a23-3b97-4013-955f-4501da36fea1",
   "metadata": {},
   "outputs": [
    {
     "name": "stdout",
     "output_type": "stream",
     "text": [
      "[b'1' b'2' b'3' b'4' b'5']\n",
      "|S1\n"
     ]
    }
   ],
   "source": [
    "# 12 - Create an array with data type string\n",
    "\n",
    "arr = np.array([1,2,3,4,5], dtype=\"S\")\n",
    "print(arr)\n",
    "print(arr.dtype)"
   ]
  },
  {
   "cell_type": "code",
   "execution_count": 39,
   "id": "394b5499-3308-4cc8-ac6e-b2eb6543f228",
   "metadata": {},
   "outputs": [
    {
     "name": "stdout",
     "output_type": "stream",
     "text": [
      "[1 2 3 4 5]\n",
      "int32\n"
     ]
    }
   ],
   "source": [
    "# 13 - Create an array with data type 4 bytes integer\n",
    "\n",
    "arr = np.array([1,2,3,4,5], dtype=\"i4\")\n",
    "print(arr)\n",
    "print(arr.dtype)"
   ]
  },
  {
   "cell_type": "code",
   "execution_count": 40,
   "id": "50c827ff-0666-499d-8792-88adccfb3766",
   "metadata": {},
   "outputs": [
    {
     "ename": "ValueError",
     "evalue": "invalid literal for int() with base 10: 'a'",
     "output_type": "error",
     "traceback": [
      "\u001b[1;31m---------------------------------------------------------------------------\u001b[0m",
      "\u001b[1;31mValueError\u001b[0m                                Traceback (most recent call last)",
      "Cell \u001b[1;32mIn[40], line 5\u001b[0m\n\u001b[0;32m      1\u001b[0m \u001b[38;5;66;03m# Value Error when value cannot be converted\u001b[39;00m\n\u001b[0;32m      3\u001b[0m \u001b[38;5;28;01mimport\u001b[39;00m \u001b[38;5;21;01mnumpy\u001b[39;00m \u001b[38;5;28;01mas\u001b[39;00m \u001b[38;5;21;01mnp\u001b[39;00m\n\u001b[1;32m----> 5\u001b[0m arr \u001b[38;5;241m=\u001b[39m \u001b[43mnp\u001b[49m\u001b[38;5;241;43m.\u001b[39;49m\u001b[43marray\u001b[49m\u001b[43m(\u001b[49m\u001b[43m[\u001b[49m\u001b[38;5;124;43m'\u001b[39;49m\u001b[38;5;124;43ma\u001b[39;49m\u001b[38;5;124;43m'\u001b[39;49m\u001b[43m,\u001b[49m\u001b[43m \u001b[49m\u001b[38;5;124;43m'\u001b[39;49m\u001b[38;5;124;43m2\u001b[39;49m\u001b[38;5;124;43m'\u001b[39;49m\u001b[43m,\u001b[49m\u001b[43m \u001b[49m\u001b[38;5;124;43m'\u001b[39;49m\u001b[38;5;124;43m3\u001b[39;49m\u001b[38;5;124;43m'\u001b[39;49m\u001b[43m]\u001b[49m\u001b[43m,\u001b[49m\u001b[43m \u001b[49m\u001b[43mdtype\u001b[49m\u001b[38;5;241;43m=\u001b[39;49m\u001b[38;5;124;43m'\u001b[39;49m\u001b[38;5;124;43mi\u001b[39;49m\u001b[38;5;124;43m'\u001b[39;49m\u001b[43m)\u001b[49m\n",
      "\u001b[1;31mValueError\u001b[0m: invalid literal for int() with base 10: 'a'"
     ]
    }
   ],
   "source": [
    "# Value Error when value cannot be converted\n",
    "\n",
    "import numpy as np\n",
    "\n",
    "arr = np.array(['a', '2', '3'], dtype='i')\n"
   ]
  },
  {
   "cell_type": "markdown",
   "id": "6b80fb93-7e1c-48cb-a3b9-92d8c24341a3",
   "metadata": {},
   "source": [
    "Converting Data Type on Existing Arrays\n",
    "The best way to change the data type of an existing array, is to make a copy of the array with the astype() method.\n",
    "\n",
    "The astype() function creates a copy of the array, and allows you to specify the data type as a parameter.\n",
    "\n",
    "The data type can be specified using a string, like 'f' for float, 'i' for integer etc. or you can use the data type directly like float for float and int for integer."
   ]
  },
  {
   "cell_type": "code",
   "execution_count": 42,
   "id": "ff5e68ed-4a44-4012-923c-611d7f9c6e8c",
   "metadata": {},
   "outputs": [
    {
     "name": "stdout",
     "output_type": "stream",
     "text": [
      "[1 1 1]\n",
      "int32\n"
     ]
    }
   ],
   "source": [
    "# 14- Change data type from float to integer by using 'i' as parameter valu\n",
    "\n",
    "arr = np.array([1.1,1.2,1.3])\n",
    "new_arr = arr.astype(\"i\")\n",
    "print(new_arr)\n",
    "print(new_arr.dtype)"
   ]
  },
  {
   "cell_type": "code",
   "execution_count": 43,
   "id": "377dbc70-5709-409f-a634-71b6589bcf94",
   "metadata": {},
   "outputs": [
    {
     "name": "stdout",
     "output_type": "stream",
     "text": [
      "[1 1 1]\n",
      "int32\n"
     ]
    }
   ],
   "source": [
    "# 15- Change data type from float to integer by using int as parameter value\n",
    "\n",
    "arr = np.array([1.1,1.2,1.3])\n",
    "new_arr = arr.astype(\"int\")\n",
    "print(new_arr)\n",
    "print(new_arr.dtype)"
   ]
  },
  {
   "cell_type": "code",
   "execution_count": 46,
   "id": "773e4b8c-e98f-4150-b790-1126a2bb0245",
   "metadata": {},
   "outputs": [
    {
     "name": "stdout",
     "output_type": "stream",
     "text": [
      "[ True False  True]\n",
      "bool\n"
     ]
    }
   ],
   "source": [
    "#16 - Change data type from integer to boolean\n",
    "\n",
    "arr = np.array([-1,0,1])\n",
    "new_arr = arr.astype(\"bool\")\n",
    "print(new_arr)\n",
    "print(new_arr.dtype)"
   ]
  },
  {
   "cell_type": "code",
   "execution_count": null,
   "id": "aeca0f7e-d54e-4060-9f41-1d776abe7004",
   "metadata": {},
   "outputs": [],
   "source": []
  },
  {
   "cell_type": "markdown",
   "id": "42a9f016-1dd8-4dcb-afe5-f6a10a048716",
   "metadata": {},
   "source": [
    "# NumPy Array Copy vs View\n"
   ]
  },
  {
   "cell_type": "raw",
   "id": "ef3a9790-044d-4952-a504-7115ea6e71b5",
   "metadata": {},
   "source": [
    "The Difference Between Copy and View\n",
    "\n",
    "The main difference between a copy and a view of an array is that the copy is a new array, and the view is just a view of the original array.\n",
    "\n",
    "The copy owns the data and any changes made to the copy will not affect original array, and any changes made to the original array will not affect the copy.\n",
    "\n",
    "The view does not own the data and any changes made to the view will affect the original array, and any changes made to the original array will affect the view."
   ]
  },
  {
   "cell_type": "code",
   "execution_count": 51,
   "id": "8f4985be-8af2-462d-b6a2-56ab9f6d16e9",
   "metadata": {},
   "outputs": [
    {
     "name": "stdout",
     "output_type": "stream",
     "text": [
      "Old Array :-  [1 2 3]\n",
      "New Array :-  [1 2 4]\n"
     ]
    }
   ],
   "source": [
    "# 17 - Make a copy, change the original array, and display both arrays\n",
    "\n",
    "arr = np.array([1,2,3])\n",
    "arr2 = arr.copy()\n",
    "arr2[2] = 4\n",
    "print(\"Old Array :- \",arr)\n",
    "print(\"New Array :- \", arr2)"
   ]
  },
  {
   "cell_type": "code",
   "execution_count": 52,
   "id": "7d73d73b-f5eb-4acd-b162-0372d6f38471",
   "metadata": {},
   "outputs": [
    {
     "name": "stdout",
     "output_type": "stream",
     "text": [
      "Old Array :-  [1 2 4]\n",
      "New Array :-  [1 2 4]\n"
     ]
    }
   ],
   "source": [
    "# 18 - Make a view, change the original array, and display both arrays\n",
    "\n",
    "arr = np.array([1,2,3])\n",
    "arr2 = arr.view()\n",
    "arr2[2] = 4\n",
    "print(\"Old Array :- \",arr)\n",
    "print(\"New Array :- \", arr2)"
   ]
  },
  {
   "cell_type": "code",
   "execution_count": 53,
   "id": "75429222-22b1-4c02-8bc8-0c448bb66f00",
   "metadata": {},
   "outputs": [
    {
     "name": "stdout",
     "output_type": "stream",
     "text": [
      "[31  2  3  4  5]\n",
      "[31  2  3  4  5]\n"
     ]
    }
   ],
   "source": [
    "# 19 - Make a view, change the view, and display both arrays:\n",
    "\n",
    "import numpy as np\n",
    "\n",
    "arr = np.array([1, 2, 3, 4, 5])\n",
    "x = arr.view()\n",
    "x[0] = 31\n",
    "\n",
    "print(arr)\n",
    "print(x)"
   ]
  },
  {
   "cell_type": "raw",
   "id": "34746492-21f9-4311-80bc-02e30fbddd8a",
   "metadata": {},
   "source": []
  },
  {
   "cell_type": "markdown",
   "id": "dd4252cc-d950-4c36-9e4a-5d48b30587ba",
   "metadata": {},
   "source": [
    "The original array SHOULD be affected by the changes made to the view."
   ]
  },
  {
   "cell_type": "code",
   "execution_count": null,
   "id": "1074f0e3-e13c-4f9c-9a6d-d9adba52bf04",
   "metadata": {},
   "outputs": [],
   "source": []
  },
  {
   "cell_type": "raw",
   "id": "7c7f9576-85bd-48dd-9543-a3c9db5075f9",
   "metadata": {},
   "source": [
    "As mentioned above, copies owns the data, and views does not own the data, but how can we check this?\n",
    "\n",
    "Every NumPy array has the attribute base that returns None if the array owns the data.\n",
    "\n",
    "Otherwise, the base  attribute refers to the original object."
   ]
  },
  {
   "cell_type": "code",
   "execution_count": 55,
   "id": "06e5c0c2-d5a8-4f61-a53d-1f2e30e5c126",
   "metadata": {},
   "outputs": [
    {
     "name": "stdout",
     "output_type": "stream",
     "text": [
      "None\n",
      "[1 2 3]\n"
     ]
    }
   ],
   "source": [
    "# 20 - Print the value of the base attribute to check if an array owns it's data or not:\n",
    "\n",
    "arr = np.array([1,2,3])\n",
    "\n",
    "arr_copy = arr.copy()\n",
    "arr_view = arr.view()\n",
    "\n",
    "print(arr_copy.base)\n",
    "print(arr_view.base)"
   ]
  },
  {
   "cell_type": "code",
   "execution_count": null,
   "id": "47f31eda-01e5-4de6-b10c-38bbe7ce2c36",
   "metadata": {},
   "outputs": [],
   "source": []
  }
 ],
 "metadata": {
  "kernelspec": {
   "display_name": "Python 3 (ipykernel)",
   "language": "python",
   "name": "python3"
  },
  "language_info": {
   "codemirror_mode": {
    "name": "ipython",
    "version": 3
   },
   "file_extension": ".py",
   "mimetype": "text/x-python",
   "name": "python",
   "nbconvert_exporter": "python",
   "pygments_lexer": "ipython3",
   "version": "3.9.19"
  }
 },
 "nbformat": 4,
 "nbformat_minor": 5
}
