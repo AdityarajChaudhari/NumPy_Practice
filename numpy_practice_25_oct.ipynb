{
 "cells": [
  {
   "cell_type": "markdown",
   "id": "9c2a5b84-99ab-4f47-8a0a-f3541843ceed",
   "metadata": {},
   "source": [
    "## 1 - Checking NumPy Version\n"
   ]
  },
  {
   "cell_type": "code",
   "execution_count": 1,
   "id": "6e2e563c-e42c-4391-83a8-97a4d619a49e",
   "metadata": {},
   "outputs": [
    {
     "name": "stdout",
     "output_type": "stream",
     "text": [
      "1.23.0\n"
     ]
    }
   ],
   "source": [
    "import numpy as np\n",
    "print(np.__version__)"
   ]
  },
  {
   "cell_type": "code",
   "execution_count": null,
   "id": "acf7ee46-08b4-4f5e-8a43-844e68321e80",
   "metadata": {},
   "outputs": [],
   "source": []
  },
  {
   "cell_type": "markdown",
   "id": "16f20714-b583-4a80-a67f-4dfdd36549bd",
   "metadata": {},
   "source": [
    "## 2 - Creating a NumPy Array"
   ]
  },
  {
   "cell_type": "code",
   "execution_count": 2,
   "id": "d68fd147-6a58-410e-b0cf-8cf354cae507",
   "metadata": {},
   "outputs": [
    {
     "name": "stdout",
     "output_type": "stream",
     "text": [
      "[1 2 3]\n"
     ]
    }
   ],
   "source": [
    "np_array = np.array([1,2,3])\n",
    "print(np_array)\n"
   ]
  },
  {
   "cell_type": "code",
   "execution_count": null,
   "id": "8aaafb9f-dbe5-435f-84fb-3db606e97518",
   "metadata": {},
   "outputs": [],
   "source": []
  },
  {
   "cell_type": "markdown",
   "id": "18ac54cb-6c00-4721-9d5a-73b187452393",
   "metadata": {},
   "source": [
    "## 3 - Getting the type of NumPy Array Object"
   ]
  },
  {
   "cell_type": "code",
   "execution_count": 3,
   "id": "a9a01ba1-ad5a-4daf-82d5-2fdadb1d5d0a",
   "metadata": {},
   "outputs": [
    {
     "name": "stdout",
     "output_type": "stream",
     "text": [
      "<class 'numpy.ndarray'>\n"
     ]
    }
   ],
   "source": [
    "np_array = np.array([1,2,3])\n",
    "print(type(np_array))"
   ]
  },
  {
   "cell_type": "code",
   "execution_count": null,
   "id": "66186cf2-0647-4ffb-96df-80499e63e0ba",
   "metadata": {},
   "outputs": [],
   "source": []
  },
  {
   "cell_type": "markdown",
   "id": "5fc32c74-efb8-4c13-88b3-fd4132be5ae5",
   "metadata": {},
   "source": [
    "#### To create an ndarray, we can pass a list, tuple or any array-like object into the array() method, and it will be converted into an ndarray"
   ]
  },
  {
   "cell_type": "markdown",
   "id": "d5284d53-6b30-422a-b0f9-bf2dcf3bb89b",
   "metadata": {},
   "source": [
    "## 4 - Create a NumPy Array with tuple"
   ]
  },
  {
   "cell_type": "code",
   "execution_count": 4,
   "id": "14919fa3-58b3-47ba-89cf-fbafa36de964",
   "metadata": {},
   "outputs": [
    {
     "name": "stdout",
     "output_type": "stream",
     "text": [
      "[1 2 3]\n"
     ]
    }
   ],
   "source": [
    "np_array = np.array((1,2,3))\n",
    "print(np_array)"
   ]
  },
  {
   "cell_type": "code",
   "execution_count": null,
   "id": "937ee937-d050-41e5-856e-ec96751806c2",
   "metadata": {},
   "outputs": [],
   "source": []
  },
  {
   "cell_type": "markdown",
   "id": "8e2beef6-81aa-434f-b371-4a415f2e07b8",
   "metadata": {},
   "source": [
    "## 5 - Find the Length of a NumPy Array"
   ]
  },
  {
   "cell_type": "code",
   "execution_count": 5,
   "id": "676fc707-515d-4ea3-889b-a0d96ec976f8",
   "metadata": {},
   "outputs": [
    {
     "name": "stdout",
     "output_type": "stream",
     "text": [
      "4\n"
     ]
    }
   ],
   "source": [
    "np_array = np.array([1,2,3,4])\n",
    "print(len(np_array))"
   ]
  },
  {
   "cell_type": "code",
   "execution_count": null,
   "id": "15c97f74-3e6a-45ee-8b0e-e3fcc9d7139f",
   "metadata": {},
   "outputs": [],
   "source": []
  }
 ],
 "metadata": {
  "kernelspec": {
   "display_name": "Python 3 (ipykernel)",
   "language": "python",
   "name": "python3"
  },
  "language_info": {
   "codemirror_mode": {
    "name": "ipython",
    "version": 3
   },
   "file_extension": ".py",
   "mimetype": "text/x-python",
   "name": "python",
   "nbconvert_exporter": "python",
   "pygments_lexer": "ipython3",
   "version": "3.9.19"
  }
 },
 "nbformat": 4,
 "nbformat_minor": 5
}
